{
 "cells": [
  {
   "cell_type": "code",
   "execution_count": 2,
   "metadata": {},
   "outputs": [],
   "source": [
    "#Import Libraries\n",
    "import numpy as np\n",
    "import pandas as pd\n",
    "from matplotlib import pyplot as plt\n",
    "import scipy\n",
    "from sklearn.model_selection import train_test_split\n",
    "from sklearn.tree import DecisionTreeClassifier\n",
    "from sklearn.ensemble import RandomForestClassifier\n",
    "from sklearn.neural_network import MLPClassifier\n",
    "from sklearn.metrics import classification_report\n",
    "from sklearn import svm\n",
    "from sklearn import metrics\n",
    "from sklearn.metrics import accuracy_score\n",
    "from sklearn.ensemble import RandomForestRegressor\n",
    "from sklearn.metrics import mean_squared_error"
   ]
  },
  {
   "cell_type": "code",
   "execution_count": 3,
   "metadata": {},
   "outputs": [],
   "source": [
    "def clean_data(data):\n",
    "\n",
    "    print(\"Original Dataset Size:\", data.shape)\n",
    "    \n",
    "    #Remove Duplicates\n",
    "    #data.drop_duplicates(inplace=True)\n",
    "\n",
    "    #Create new Columns\n",
    "    data['DEATH'] = (data['DATE_DIED'] != \"9999-99-99\").astype(int) + 1\n",
    "    data['COVID'] = (data['CLASIFFICATION_FINAL'] <= 3).astype(int)\n",
    "    data['HOSPITALIZED'] = (data['PATIENT_TYPE'] == 2).astype(int)\n",
    "\n",
    "    #Remove all missing values from columns other than the ones that have the MOST missing values (ICU, INTUBED, PREGNANCY)\n",
    "    cols_to_filter = ['PNEUMONIA', 'DIABETES', 'COPD', 'ASTHMA', 'INMSUPR', 'HIPERTENSION',\n",
    "                  'OTHER_DISEASE', 'CARDIOVASCULAR', 'OBESITY', 'RENAL_CHRONIC', 'TOBACCO','ICU','INTUBED']\n",
    "\n",
    "    for col in cols_to_filter:\n",
    "        data = data[data[col].isin([1, 2, 97])]\n",
    "\n",
    "    #Change all values to 1 and 0 for predictor columns\n",
    "        #Define the mapping for all columns\n",
    "    mapping = {1: 1, 2: 0, 97:0}  # Define your mapping here dropped 99 as its real missing value, 97 is N/A so turned that to 0\n",
    "\n",
    "        # Apply the mapping to all columns\n",
    "    data = data.replace(mapping)\n",
    "\n",
    "\n",
    "    #Create Prediction Column\n",
    "    data['AT_RISK'] = data[['HOSPITALIZED','DEATH', 'INTUBED', 'ICU']].sum(axis=1)\n",
    "\n",
    "    # Create Prediction Column\n",
    "    data['AT_RISK'] = data[['HOSPITALIZED', 'DEATH', 'INTUBED', 'ICU']].sum(axis=1)\n",
    "\n",
    "    # If COVID flag is not present, set 'AT_RISK_SCORE' to 0\n",
    "    data.loc[data['COVID'] == 0, 'AT_RISK'] = 0\n",
    "\n",
    "    # If COVID flag is present and the sum of the rest is 0, set 'AT_RISK_SCORE' to 1\n",
    "    data.loc[(data['COVID'] == 1) & (data[['HOSPITALIZED', 'DEATH', 'INTUBED', 'ICU']].sum(axis=1) == 0), 'AT_RISK'] = 0\n",
    "\n",
    "    # If COVID flag is present and the sum of the rest is >= 1, set 'AT_RISK_SCORE' to 2\n",
    "    data.loc[(data['COVID'] == 1) & (data[['HOSPITALIZED', 'DEATH', 'INTUBED', 'ICU']].sum(axis=1) >= 1), 'AT_RISK'] = 1\n",
    "\n",
    "\n",
    "    #data['AT_RISK_SCORE'] = np.where(data['AT_RISK_SCORE'] == 0, 0, data['AT_RISK_SCORE'] / max_at_risk_value)\n",
    "\n",
    "    data['NUM_COMORBIDITIES'] = data[['DIABETES', 'COPD', 'ASTHMA', 'INMSUPR', 'HIPERTENSION',\n",
    "                                      'OTHER_DISEASE', 'CARDIOVASCULAR', 'OBESITY', 'RENAL_CHRONIC', 'TOBACCO']].sum(axis=1)\n",
    "\n",
    "\n",
    "    #Drop columns from the dataset that are redundant or not relavent to the model\n",
    "    data = data.drop(columns=['CLASIFFICATION_FINAL','DATE_DIED','PATIENT_TYPE','MEDICAL_UNIT','USMER','PREGNANT'])\n",
    "\n",
    "    # Define the columns to be converted to integer type\n",
    "    cols_to_convert = [col for col in data.columns]\n",
    "\n",
    "    # Convert the selected columns to integer type\n",
    "    data[cols_to_convert] = data[cols_to_convert].astype(int)\n",
    "\n",
    "    print(\"Final Dataset Size:\", data.shape)\n",
    "\n",
    "    return data"
   ]
  },
  {
   "cell_type": "code",
   "execution_count": 4,
   "metadata": {},
   "outputs": [],
   "source": [
    "#Prepare data for modeling\n",
    "def modeling_df_improved(df): \n",
    "    data = df\n",
    "\n",
    "    #Did not drop these columns earlier because I need them for the viz\n",
    "    data = data.drop(columns=['COVID','HOSPITALIZED','DEATH','INTUBED','ICU','INMSUPR', 'ASTHMA', 'TOBACCO','COPD','OTHER_DISEASE'])\n",
    "    \n",
    "    data['AGE_group'] = (data['AGE'] // 10) * 10\n",
    "    data = data.drop(['AGE'], axis = 1)\n",
    "\n",
    "    age_labels = [str(i) + '0s' for i in range(1, 11)]  # Create age labels such as '10s', '20s', ..., '100s'\n",
    "\n",
    "    for label in age_labels:\n",
    "        data[label] = (data['AGE_group'] == int(label[:2])).astype(int)\n",
    "\n",
    "    data = data.drop(['AGE_group'], axis =1)\n",
    "\n",
    "    return data\n",
    "\n",
    "def random_forest(df):\n",
    "    data = df\n",
    "\n",
    "    X = data.drop('AT_RISK', axis=1)\n",
    "    y = data['AT_RISK']\n",
    "\n",
    "    # Split data into training and testing\n",
    "    X_train, X_test, y_train, y_test = train_test_split(X, y, test_size=0.3, random_state=42)\n",
    "    rf_clf = RandomForestClassifier(n_estimators=100, random_state=42)\n",
    "    rf_clf.fit(X_train, y_train)\n",
    "    y_pred = rf_clf.predict(X_test)\n",
    "    print(\"Accuracy:\",metrics.accuracy_score(y_test, y_pred))\n",
    "    return rf_clf"
   ]
  },
  {
   "cell_type": "code",
   "execution_count": 5,
   "metadata": {},
   "outputs": [
    {
     "name": "stdout",
     "output_type": "stream",
     "text": [
      "Original Dataset Size: (1068023, 21)\n",
      "Final Dataset Size: (1041625, 20)\n"
     ]
    }
   ],
   "source": [
    "#Import Dataset\n",
    "df_original = pd.read_csv(\"Covid Data.csv\")\n",
    "\n",
    "#Apply Clean Data function to the the df\n",
    "clean_df = clean_data(df_original)\n",
    "#clean_df.info()"
   ]
  },
  {
   "cell_type": "markdown",
   "metadata": {},
   "source": [
    "Write to CSV to use in the Tableau Viz \\\n",
    "Uncomment the code below when you want to re create the visualization dataset"
   ]
  },
  {
   "cell_type": "code",
   "execution_count": 6,
   "metadata": {},
   "outputs": [],
   "source": [
    "#Write df to csv to be used for viz\n",
    "#file_path = 'Covid_Clean.csv'\n",
    "#clean_df.to_csv(file_path, index=False)\n",
    "\n",
    "# Define the list of column names to group by\n",
    "#groupby_cols = clean_df.columns.tolist()\n",
    "\n",
    "# Select columns specified by the list of column names and perform groupby operation\n",
    "#grouped_df = clean_df.groupby(groupby_cols).size().reset_index(name='counts')\n",
    "\n",
    "#write df to csv to be used for Sankey viz\n",
    "#file_path = 'Covid_Clean_Sankey.csv'\n",
    "#grouped_df.to_csv(file_path, index=False)\n"
   ]
  },
  {
   "cell_type": "code",
   "execution_count": 7,
   "metadata": {},
   "outputs": [
    {
     "name": "stdout",
     "output_type": "stream",
     "text": [
      "Accuracy: 0.6550971557307801\n"
     ]
    }
   ],
   "source": [
    "#Improved model \n",
    "\n",
    "#Prepare dataset for modeling\n",
    "modeling_data_final = modeling_df_improved(clean_df)\n",
    "\n",
    "#Create Random Forest Model \n",
    "rf_model_final = random_forest(modeling_data_final)"
   ]
  },
  {
   "cell_type": "code",
   "execution_count": 28,
   "metadata": {},
   "outputs": [],
   "source": [
    "import tabpy_client\n",
    "from tabpy.tabpy_tools.client import Client\n",
    "client = tabpy_client.Client('http://localhost:9004/')"
   ]
  },
  {
   "cell_type": "code",
   "execution_count": 34,
   "metadata": {},
   "outputs": [],
   "source": [
    "def prediction_model(_arg1, _arg2, _arg3, _arg4, _arg5, _arg6, _arg7, _arg8, _arg9): \n",
    "    import pandas as pd\n",
    "\n",
    "    _arg9 = _arg9[0]\n",
    "    _arg9 = _arg9 // 10\n",
    "\n",
    "    row = {\n",
    "        'SEX': _arg1,\n",
    "        'PNEUMONIA': _arg2,\n",
    "        'DIABETES': _arg3,\n",
    "        'HIPERTENSION': _arg4,\n",
    "        'CARDIOVASCULAR': _arg5,\n",
    "        'OBESITY': _arg6,\n",
    "        'RENAL_CHRONIC': _arg7,\n",
    "        'NUM_COMORBIDITIES': _arg8,\n",
    "        '10s': 1 if _arg9 == 1 else 0,\n",
    "        '20s': 1 if _arg9 == 2 else 0,\n",
    "        '30s': 1 if _arg9 == 3 else 0,\n",
    "        '40s': 1 if _arg9 == 4 else 0,\n",
    "        '50s': 1 if _arg9 == 5 else 0,\n",
    "        '60s': 1 if _arg9 == 6 else 0,\n",
    "        '70s': 1 if _arg9 == 7 else 0,\n",
    "        '80s': 1 if _arg9 == 8 else 0,\n",
    "        '90s': 1 if _arg9 == 9 else 0,\n",
    "        '100s': 1 if _arg9 == 10 else 0\n",
    "    }\n",
    "\n",
    "    test_data = pd.DataFrame(data = row,index=[0])\n",
    "    #Predict the Fraud\n",
    "    output = rf_model_final.predict(test_data)\n",
    "\n",
    "    return output.tolist()"
   ]
  },
  {
   "cell_type": "code",
   "execution_count": 35,
   "metadata": {},
   "outputs": [],
   "source": [
    "client.deploy('prediction_model', prediction_model,'prediction_model score',override = True)"
   ]
  }
 ],
 "metadata": {
  "kernelspec": {
   "display_name": "Python 3",
   "language": "python",
   "name": "python3"
  },
  "language_info": {
   "codemirror_mode": {
    "name": "ipython",
    "version": 3
   },
   "file_extension": ".py",
   "mimetype": "text/x-python",
   "name": "python",
   "nbconvert_exporter": "python",
   "pygments_lexer": "ipython3",
   "version": "3.10.11"
  }
 },
 "nbformat": 4,
 "nbformat_minor": 2
}
